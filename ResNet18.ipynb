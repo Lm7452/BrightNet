{
 "cells": [
  {
   "cell_type": "markdown",
   "metadata": {},
   "source": [
    "### Import Required Modules and Functions\n"
   ]
  },
  {
   "cell_type": "code",
   "execution_count": 9,
   "metadata": {},
   "outputs": [],
   "source": [
    "import numpy as np\n",
    "\n",
    "import torch\n",
    "import torchvision\n",
    "import torch.nn as nn\n",
    "import torchvision.transforms as T\n",
    "import torchvision.models as models\n",
    "\n",
    "from torch.utils.data import Dataset, DataLoader\n",
    "from PIL import Image\n",
    "\n",
    "import os\n",
    "import json\n",
    "\n",
    "import matplotlib.pyplot as plt\n",
    "from sklearn.metrics import classification_report, confusion_matrix, ConfusionMatrixDisplay"
   ]
  },
  {
   "cell_type": "markdown",
   "metadata": {},
   "source": [
    "### Set Device to GPU"
   ]
  },
  {
   "cell_type": "code",
   "execution_count": 10,
   "metadata": {},
   "outputs": [],
   "source": [
    "USE_GPU = True\n",
    "dtype = torch.float32 \n",
    "\n",
    "if USE_GPU and torch.cuda.is_available(): \n",
    "    device = torch.device('cuda')\n",
    "else:\n",
    "    device = torch.device('cpu')"
   ]
  },
  {
   "cell_type": "markdown",
   "metadata": {},
   "source": [
    "### Prepare Data Loaders\n",
    "##### Ensure That WildCam_3classes is in the correct location\n",
    "##### Run Brightness_subset_maker.ipynb to create \"brightest\" image folder"
   ]
  },
  {
   "cell_type": "code",
   "execution_count": 11,
   "metadata": {},
   "outputs": [],
   "source": [
    "class WildCamDataset(Dataset):\n",
    "    def __init__(self, img_paths, annotations, transform=T.ToTensor(), directory='WildCam_3classes/train'):\n",
    "        self.img_paths = img_paths\n",
    "        self.annotations = annotations\n",
    "        self.transform = transform\n",
    "        self.dir = directory\n",
    "\n",
    "    def __len__(self):\n",
    "        return len(self.img_paths)\n",
    "\n",
    "    def __getitem__(self, index):\n",
    "        ID = '{}/{}'.format(self.dir, self.img_paths[index])\n",
    "        img = Image.open(ID).convert('RGB')\n",
    "        X = self.transform(img)             \n",
    "        y = self.annotations['labels'][self.img_paths[index]]\n",
    "        loc = self.annotations['locations'][self.img_paths[index]]\n",
    "        return X, y, loc\n",
    "    \n",
    "normalize = T.Normalize(mean=[0.485, 0.456, 0.406],std=[0.229, 0.224, 0.225])\n",
    "transform = T.Compose([\n",
    "            T.Resize((112,112)),\n",
    "            T.ToTensor(),\n",
    "            normalize\n",
    "])\n",
    "\n",
    "param_train = {\n",
    "    'batch_size': 256,       \n",
    "    'shuffle': True\n",
    "    }\n",
    "\n",
    "param_valtest = {\n",
    "    'batch_size': 256,\n",
    "    'shuffle': False\n",
    "    }\n",
    "\n",
    "annotations = json.load(open('WildCam_3classes/annotations.json'))\n",
    "\n",
    "train_images = sorted(os.listdir('WildCam_3classes/train'))\n",
    "train_dset = WildCamDataset(train_images, annotations, transform, directory='WildCam_3classes/train')\n",
    "train_loader = DataLoader(train_dset, **param_train)\n",
    "\n",
    "val_images = sorted(os.listdir('WildCam_3classes/val'))\n",
    "val_dset = WildCamDataset(val_images, annotations, transform, directory=\"WildCam_3classes/val\")\n",
    "val_loader = DataLoader(val_dset, **param_valtest)\n",
    "\n",
    "test_images = sorted(os.listdir('WildCam_3classes/test'))\n",
    "test_dset = WildCamDataset(test_images, annotations, transform, directory=\"WildCam_3classes/test\")\n",
    "test_loader = DataLoader(test_dset, **param_valtest)\n",
    "\n",
    "brightest_labels = json.load(open('WildCam_3classes/brightest_labels.json'))\n",
    "\n",
    "bright_images = sorted(os.listdir('WildCam_3classes/brightest'))\n",
    "bright_dset = WildCamDataset(bright_images, brightest_labels, transform, directory=\"WildCam_3classes/brightest\")\n",
    "bright_loader = DataLoader(bright_dset, **param_valtest)"
   ]
  },
  {
   "cell_type": "markdown",
   "metadata": {},
   "source": [
    "### Define ResNet-18 Model"
   ]
  },
  {
   "cell_type": "code",
   "execution_count": 12,
   "metadata": {},
   "outputs": [],
   "source": [
    "# Load pretrained ResNet model\n",
    "pretrained_model = models.resnet18(pretrained=True)\n",
    "\n",
    "# Modify the final fully connected layer to match output size \n",
    "pretrained_model.fc = nn.Linear(pretrained_model.fc.in_features, 3)\n",
    "\n",
    "# Move model to device\n",
    "pretrained_model = pretrained_model.to(device=device)\n",
    "\n",
    "optimizer_pretrained = torch.optim.Adam(pretrained_model.parameters(), lr=1e-3)\n",
    "criterion = nn.CrossEntropyLoss()\n"
   ]
  },
  {
   "cell_type": "markdown",
   "metadata": {},
   "source": [
    "### Perform Training\n",
    "##### Same Across all 3 models\n",
    "##### If models stored locally, skip"
   ]
  },
  {
   "cell_type": "code",
   "execution_count": 17,
   "metadata": {},
   "outputs": [],
   "source": [
    "def train(model, optimizer, loader_train, epochs=5, print_every=1):\n",
    "    iteration_loss = []  \n",
    "    model = model.to(device=device)\n",
    "\n",
    "    for e in range(epochs):\n",
    "        for t, (x, y, _) in enumerate(loader_train):\n",
    "            model.train()\n",
    "            x, y = x.to(device), y.to(device)\n",
    "\n",
    "            scores = model(x)\n",
    "            loss = criterion(scores, y)\n",
    "\n",
    "            optimizer.zero_grad()\n",
    "            loss.backward()\n",
    "            optimizer.step()\n",
    "\n",
    "            iteration_loss.append(loss.item())  # Track loss for each iteration\n",
    "            if t % print_every == 0:\n",
    "                print(f\"Epoch {e}, Iteration {t}, loss = {loss.item():.4f}\")\n",
    "        \n",
    "        print(f\"Epoch {e} complete.\")\n",
    "    \n",
    "    # Plot training loss per iteration\n",
    "    plt.plot(iteration_loss, label='Training Loss (Pretrained)')\n",
    "    plt.xlabel('Iterations')\n",
    "    plt.ylabel('Loss')\n",
    "    plt.title('Training Loss Across Iterations (Pretrained Model)')\n",
    "    plt.legend()\n",
    "    plt.show()"
   ]
  },
  {
   "cell_type": "code",
   "execution_count": null,
   "metadata": {},
   "outputs": [],
   "source": [
    "train(pretrained_model, optimizer_pretrained, train_loader, 5, 1)"
   ]
  },
  {
   "cell_type": "code",
   "execution_count": 21,
   "metadata": {},
   "outputs": [],
   "source": [
    "torch.save(pretrained_model, 'resnet18_trained.pth')"
   ]
  },
  {
   "cell_type": "markdown",
   "metadata": {},
   "source": [
    "### Load stored model"
   ]
  },
  {
   "cell_type": "code",
   "execution_count": 20,
   "metadata": {},
   "outputs": [
    {
     "name": "stderr",
     "output_type": "stream",
     "text": [
      "C:\\Users\\lmorr\\AppData\\Local\\Temp\\ipykernel_5432\\2993603550.py:1: FutureWarning: You are using `torch.load` with `weights_only=False` (the current default value), which uses the default pickle module implicitly. It is possible to construct malicious pickle data which will execute arbitrary code during unpickling (See https://github.com/pytorch/pytorch/blob/main/SECURITY.md#untrusted-models for more details). In a future release, the default value for `weights_only` will be flipped to `True`. This limits the functions that could be executed during unpickling. Arbitrary objects will no longer be allowed to be loaded via this mode unless they are explicitly allowlisted by the user via `torch.serialization.add_safe_globals`. We recommend you start setting `weights_only=True` for any use case where you don't have full control of the loaded file. Please open an issue on GitHub for any issues related to this experimental feature.\n",
      "  resnet18_loaded = torch.load('resnet18_trained.pth')\n"
     ]
    }
   ],
   "source": [
    "resnet18_loaded = torch.load('resnet18_trained.pth')\n",
    "resnet18_loaded = resnet18_loaded.to(device)"
   ]
  },
  {
   "cell_type": "markdown",
   "metadata": {},
   "source": [
    "### Collect Classification Report and Confusion Matrix for Model on each data_loader"
   ]
  },
  {
   "cell_type": "code",
   "execution_count": 21,
   "metadata": {},
   "outputs": [],
   "source": [
    "def evaluate(model, loader, device):\n",
    "    model.eval()  \n",
    "    y_true = []\n",
    "    y_pred = []\n",
    "\n",
    "    with torch.no_grad():\n",
    "        for x, y, _ in loader:  \n",
    "            x, y = x.to(device), y.to(device)\n",
    "\n",
    "            scores = model(x)\n",
    "            _, preds = scores.max(1)\n",
    "\n",
    "            y_true.extend(y.cpu().numpy()) \n",
    "            y_pred.extend(preds.cpu().numpy())  \n",
    "\n",
    "    print(\"Classification Report:\")\n",
    "    print(classification_report(y_true, y_pred, target_names=['Rabbit', 'Bobcat', 'Cat']))\n",
    "\n",
    "    return y_true, y_pred\n"
   ]
  },
  {
   "cell_type": "code",
   "execution_count": null,
   "metadata": {},
   "outputs": [],
   "source": [
    "print(\"ResNet-18 Test Set Evaluation:\")\n",
    "y_true_custom, y_pred_custom = evaluate(resnet18_loaded, test_loader, device)\n",
    "\n",
    "print(\"ResNet-18 Validation Set Evaluation:\")\n",
    "y_true_custom, y_pred_custom = evaluate(resnet18_loaded, val_loader, device)\n",
    "\n",
    "print(\"ResNet-18 Bright Set Evaluation:\")\n",
    "y_true_custom, y_pred_custom = evaluate(resnet18_loaded, bright_loader, device)"
   ]
  },
  {
   "cell_type": "code",
   "execution_count": 33,
   "metadata": {},
   "outputs": [],
   "source": [
    "def check_accuracy_and_confusion_matrix(loader, model):\n",
    "    num_correct = 0\n",
    "    num_samples = 0\n",
    "    all_preds = []\n",
    "    all_labels = []\n",
    "\n",
    "    class_names = [\"rabbit\", \"bobcat\", \"cat\"]\n",
    "    num_classes = len(class_names)\n",
    "    class_correct = np.zeros(num_classes)  \n",
    "    class_samples = np.zeros(num_classes)  \n",
    "\n",
    "    model.eval()  \n",
    "    with torch.no_grad(): \n",
    "        for x, y, _ in loader:\n",
    "            x = x.to(device=device, dtype=dtype)\n",
    "            y = y.to(device=device, dtype=torch.long)\n",
    "            scores = model(x)\n",
    "            _, preds = scores.max(1)\n",
    "\n",
    "            all_preds.extend(preds.cpu().numpy())\n",
    "            all_labels.extend(y.cpu().numpy())\n",
    "            \n",
    "            num_correct += (preds == y).sum().item()\n",
    "            num_samples += preds.size(0)\n",
    "            \n",
    "            for i in range(num_classes):\n",
    "                class_correct[i] += ((preds == y) & (y == i)).sum().item()\n",
    "                class_samples[i] += (y == i).sum().item()\n",
    "\n",
    "    overall_acc = float(num_correct) / num_samples\n",
    "    print(f'Overall accuracy: {num_correct} / {num_samples} ({100 * overall_acc:.2f}%)')\n",
    "    \n",
    "    for i in range(num_classes):\n",
    "        if class_samples[i] > 0:\n",
    "            class_acc = float(class_correct[i]) / class_samples[i]\n",
    "            print(f'Accuracy for class {i} ({class_names[i]}): {class_correct[i]} / {class_samples[i]} ({100 * class_acc:.2f}%)')\n",
    "        else:\n",
    "            print(f'No samples for class {i} ({class_names[i]})')\n",
    "\n",
    "    cm = confusion_matrix(all_labels, all_preds)\n",
    "\n",
    "    disp = ConfusionMatrixDisplay(confusion_matrix=cm, display_labels=class_names)\n",
    "    disp.plot(cmap=\"Blues\")\n",
    "    plt.title(\"Confusion Matrix\")\n",
    "    plt.xlabel(\"Predicted Labels\")\n",
    "    plt.ylabel(\"True Labels\")\n",
    "    plt.show()"
   ]
  },
  {
   "cell_type": "code",
   "execution_count": null,
   "metadata": {},
   "outputs": [],
   "source": [
    "print(\"ResNet-18 Test Set Confusion Matrix\")\n",
    "check_accuracy_and_confusion_matrix(test_loader, resnet18_loaded)\n",
    "\n",
    "print(\"ResNet-18 Validation Set Confusion Matrix\")\n",
    "check_accuracy_and_confusion_matrix(val_loader, resnet18_loaded)\n",
    "\n",
    "print(\"ResNet-18 Bright Set Confusion Matrix\")\n",
    "check_accuracy_and_confusion_matrix(bright_loader, resnet18_loaded)"
   ]
  }
 ],
 "metadata": {
  "kernelspec": {
   "display_name": "cos429",
   "language": "python",
   "name": "python3"
  },
  "language_info": {
   "codemirror_mode": {
    "name": "ipython",
    "version": 3
   },
   "file_extension": ".py",
   "mimetype": "text/x-python",
   "name": "python",
   "nbconvert_exporter": "python",
   "pygments_lexer": "ipython3",
   "version": "3.8.19"
  },
  "orig_nbformat": 4
 },
 "nbformat": 4,
 "nbformat_minor": 2
}
