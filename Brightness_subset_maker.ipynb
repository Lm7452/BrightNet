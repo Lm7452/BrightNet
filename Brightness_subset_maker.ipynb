{
 "cells": [
  {
   "cell_type": "markdown",
   "metadata": {},
   "source": [
    "### Import Required Modules and Functions"
   ]
  },
  {
   "cell_type": "code",
   "execution_count": 1,
   "metadata": {},
   "outputs": [],
   "source": [
    "import numpy as np\n",
    "\n",
    "import torch\n",
    "import torchvision\n",
    "import torchvision.transforms as T\n",
    "\n",
    "from torch.utils.data import Dataset, DataLoader\n",
    "from PIL import Image\n",
    "\n",
    "import os\n",
    "import json\n",
    "\n",
    "import matplotlib.pyplot as plt"
   ]
  },
  {
   "cell_type": "markdown",
   "metadata": {},
   "source": [
    "### Set Device to GPU"
   ]
  },
  {
   "cell_type": "code",
   "execution_count": 2,
   "metadata": {},
   "outputs": [],
   "source": [
    "USE_GPU = True\n",
    "dtype = torch.float32 \n",
    "\n",
    "if USE_GPU and torch.cuda.is_available(): \n",
    "    device = torch.device('cuda')\n",
    "else:\n",
    "    device = torch.device('cpu')\n"
   ]
  },
  {
   "cell_type": "markdown",
   "metadata": {},
   "source": [
    "### Prepare Data Loaders\n",
    "##### Ensure That WildCam_3classes is in the correct location\n",
    "##### Run Brightness_subset_maker.ipynb to create \"brightest\" image folder"
   ]
  },
  {
   "cell_type": "code",
   "execution_count": 4,
   "metadata": {},
   "outputs": [],
   "source": [
    "class WildCamDataset(Dataset):\n",
    "    def __init__(self, img_paths, annotations, transform=T.ToTensor(), directory='WildCam_3classes/train'):\n",
    "        self.img_paths = img_paths\n",
    "        self.annotations = annotations\n",
    "        self.transform = transform\n",
    "        self.dir = directory\n",
    "\n",
    "    def __len__(self):\n",
    "        return len(self.img_paths)\n",
    "\n",
    "    def __getitem__(self, index):\n",
    "        ID = '{}/{}'.format(self.dir, self.img_paths[index])\n",
    "        img = Image.open(ID).convert('RGB')\n",
    "        X = self.transform(img)             \n",
    "        y = self.annotations['labels'][self.img_paths[index]]\n",
    "        loc = self.annotations['locations'][self.img_paths[index]]\n",
    "        return X, y, loc\n",
    "    \n",
    "normalize = T.Normalize(mean=[0.485, 0.456, 0.406],std=[0.229, 0.224, 0.225])\n",
    "transform = T.Compose([\n",
    "            T.Resize((112,112)),\n",
    "            T.ToTensor(),\n",
    "            normalize\n",
    "])\n",
    "\n",
    "param_train = {\n",
    "    'batch_size': 256,       \n",
    "    'shuffle': True\n",
    "    }\n",
    "\n",
    "param_valtest = {\n",
    "    'batch_size': 256,\n",
    "    'shuffle': False\n",
    "    }\n",
    "\n",
    "annotations = json.load(open('WildCam_3classes/annotations.json'))\n",
    "\n",
    "train_images = sorted(os.listdir('WildCam_3classes/train'))\n",
    "train_dset = WildCamDataset(train_images, annotations, transform, directory='WildCam_3classes/train/')\n",
    "train_loader = DataLoader(train_dset, **param_train)\n",
    "\n",
    "val_images = sorted(os.listdir('WildCam_3classes/val'))\n",
    "val_dset = WildCamDataset(val_images, annotations, transform, directory=\"WildCam_3classes/val/\")\n",
    "val_loader = DataLoader(val_dset, **param_valtest)\n",
    "\n",
    "test_images = sorted(os.listdir('WildCam_3classes/test'))\n",
    "test_dset = WildCamDataset(test_images, annotations, transform, directory=\"WildCam_3classes/test/\")\n",
    "test_loader = DataLoader(test_dset, **param_valtest)"
   ]
  },
  {
   "cell_type": "markdown",
   "metadata": {},
   "source": [
    "### Grab the Brightest Images and Save Them"
   ]
  },
  {
   "cell_type": "code",
   "execution_count": 3,
   "metadata": {},
   "outputs": [],
   "source": [
    "def get_brightest_images(loader, percentage=20, num_to_display=5):\n",
    "    all_brightness = []\n",
    "    all_images = []\n",
    "    all_labels = []\n",
    "    all_locations = []\n",
    "\n",
    "    for images, labels, locations in loader:\n",
    "        images = images.numpy() \n",
    "        brightness = images.mean(axis=(1, 2, 3))  \n",
    "        all_brightness.extend(brightness)\n",
    "        all_images.extend(images)\n",
    "        all_labels.extend(labels.numpy())\n",
    "        all_locations.extend(locations.numpy())\n",
    "\n",
    "    all_brightness = np.array(all_brightness)\n",
    "    all_images = np.array(all_images)\n",
    "    all_labels = np.array(all_labels)\n",
    "    all_locations = np.array(all_locations)\n",
    "\n",
    "    brightest_images = []\n",
    "    brightest_labels = []\n",
    "    brightest_locations = []\n",
    "\n",
    "    unique_classes = np.unique(all_labels)\n",
    "\n",
    "    for cls in unique_classes:\n",
    "        class_indices = np.where(all_labels == cls)[0]\n",
    "\n",
    "        class_brightness = all_brightness[class_indices]\n",
    "        class_images = all_images[class_indices]\n",
    "        class_locations = all_locations[class_indices]\n",
    "        class_labels = all_labels[class_indices]\n",
    "\n",
    "        threshold = np.percentile(class_brightness, 100 - percentage)\n",
    "\n",
    "        class_selected_indices = np.where(class_brightness >= threshold)[0]\n",
    "        class_selected_images = class_images[class_selected_indices]\n",
    "        class_selected_labels = class_labels[class_selected_indices]\n",
    "        class_selected_locations = class_locations[class_selected_indices]\n",
    "\n",
    "        brightest_images.extend(class_selected_images)\n",
    "        brightest_labels.extend(class_selected_labels)\n",
    "        brightest_locations.extend(class_selected_locations)\n",
    "\n",
    "    print(f\"Displaying {min(num_to_display, len(brightest_images))} images per class from the top {percentage}% brightest images:\")\n",
    "    for i in range(min(num_to_display * len(unique_classes), len(brightest_images))):\n",
    "        plt.figure(figsize=(3, 3))\n",
    "        image = brightest_images[i].transpose(1, 2, 0) \n",
    "        plt.imshow(np.clip(image, 0, 1)) \n",
    "        plt.title(f\"Label: {brightest_labels[i]} Location: {brightest_locations[i]}\")\n",
    "        plt.axis('off')\n",
    "        plt.show()\n",
    "\n",
    "    return brightest_images, brightest_labels, brightest_locations"
   ]
  },
  {
   "cell_type": "code",
   "execution_count": null,
   "metadata": {},
   "outputs": [],
   "source": [
    "brightest_images, brightest_labels, brightest_locations = get_brightest_images(test_loader, 20, 5)"
   ]
  },
  {
   "cell_type": "code",
   "execution_count": 4,
   "metadata": {},
   "outputs": [],
   "source": [
    "def save_brightest_images_and_labels(images, labels, locations, output_dir=\"WildCam_3classes/brightest\"):\n",
    "    os.makedirs(output_dir, exist_ok=True)\n",
    "\n",
    "    labels_dict = {}\n",
    "    locations_dict = {}\n",
    "\n",
    "    for i, (image, label, location) in enumerate(zip(images, labels, locations)):\n",
    "        image = np.clip(image.transpose(1, 2, 0), 0, 1) * 255  \n",
    "        image = Image.fromarray(image.astype(np.uint8))  \n",
    "\n",
    "        image_filename = f\"image_{i}.png\"\n",
    "        image_path = os.path.join(output_dir, image_filename)\n",
    "\n",
    "        image.save(image_path)\n",
    "\n",
    "        labels_dict[image_filename] = int(label)\n",
    "        locations_dict[image_filename] = int(location)\n",
    "\n",
    "    labels_json_path = os.path.join(\"WildCam_3classes\", \"brightest_labels.json\")\n",
    "    with open(labels_json_path, \"w\") as json_file:\n",
    "        json.dump(labels_dict, json_file, indent=4)\n",
    "        json.dump(locations_dict, json_file, indent=4)\n",
    "\n",
    "    print(f\"Saved {len(images)} images and labels to {output_dir}.\")"
   ]
  },
  {
   "cell_type": "code",
   "execution_count": null,
   "metadata": {},
   "outputs": [],
   "source": [
    "save_brightest_images_and_labels(brightest_images, brightest_labels, brightest_locations, \"WildCam_3classes/brightest\")"
   ]
  }
 ],
 "metadata": {
  "kernelspec": {
   "display_name": "cos429",
   "language": "python",
   "name": "python3"
  },
  "language_info": {
   "codemirror_mode": {
    "name": "ipython",
    "version": 3
   },
   "file_extension": ".py",
   "mimetype": "text/x-python",
   "name": "python",
   "nbconvert_exporter": "python",
   "pygments_lexer": "ipython3",
   "version": "3.8.19"
  },
  "orig_nbformat": 4
 },
 "nbformat": 4,
 "nbformat_minor": 2
}
